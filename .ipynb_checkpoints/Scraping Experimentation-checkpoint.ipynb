{
 "cells": [
  {
   "cell_type": "code",
   "execution_count": 1,
   "id": "5274aeb9",
   "metadata": {},
   "outputs": [],
   "source": [
    "import time\n",
    "from selenium import webdriver\n",
    "from selenium.webdriver.safari.service import Service\n",
    "from selenium.webdriver.common.by import By\n",
    "import pandas as pd"
   ]
  },
  {
   "cell_type": "code",
   "execution_count": 2,
   "id": "d7e8af83",
   "metadata": {},
   "outputs": [],
   "source": [
    "import time\n",
    "from selenium import webdriver\n",
    "from selenium.webdriver.chrome.service import Service\n",
    "from selenium.webdriver.common.by import By\n",
    "import pandas as pd"
   ]
  },
  {
   "cell_type": "code",
   "execution_count": 18,
   "id": "f7b7f7a5",
   "metadata": {},
   "outputs": [],
   "source": [
    "import time"
   ]
  },
  {
   "cell_type": "code",
   "execution_count": 27,
   "id": "22242813",
   "metadata": {},
   "outputs": [],
   "source": [
    "# city = ['Düsseldorf'] # str(input('destination city: '))\n",
    "# p_count = ['1'] # int(input('how many pages: '))\n",
    "\n",
    "s = Service()\n",
    "driver = webdriver.Chrome(service=s)\n",
    "\n",
    "driver.maximize_window()\n",
    "driver.get('https://www.google.de/maps/search/restaurants+in+Düsseldorf/')\n",
    "time.sleep(5)\n",
    "driver.find_element(By.CLASS_NAME, \"VfPpkd-RLmnJb\").click()\n",
    "time.sleep(5)\n",
    "driver.find_element(By.CLASS_NAME, \"whsOnd zHQkBf\").click()\n"
   ]
  },
  {
   "cell_type": "code",
   "execution_count": null,
   "id": "d4613546",
   "metadata": {},
   "outputs": [],
   "source": []
  },
  {
   "cell_type": "code",
   "execution_count": 15,
   "id": "100e5bac",
   "metadata": {},
   "outputs": [
    {
     "name": "stdout",
     "output_type": "stream",
     "text": [
      "type the destination city: Düsseldorf\n",
      "how many page do you scrap: 1\n"
     ]
    },
    {
     "ename": "NoSuchElementException",
     "evalue": "Message: no such element: Unable to locate element: {\"method\":\"xpath\",\"selector\":\"//*[@id=\"Odp5De\"]/div/div/div[2]/div[1]/div[4]/g-more-link/a/div/span[1]\"}\n  (Session info: chrome=106.0.5249.91)\nStacktrace:\n0   chromedriver                        0x000000010e9ec598 chromedriver + 4404632\n1   chromedriver                        0x000000010e973fa3 chromedriver + 3911587\n2   chromedriver                        0x000000010e620e6a chromedriver + 425578\n3   chromedriver                        0x000000010e658c91 chromedriver + 654481\n4   chromedriver                        0x000000010e658e91 chromedriver + 654993\n5   chromedriver                        0x000000010e690274 chromedriver + 881268\n6   chromedriver                        0x000000010e676dcd chromedriver + 777677\n7   chromedriver                        0x000000010e68df79 chromedriver + 872313\n8   chromedriver                        0x000000010e676bd3 chromedriver + 777171\n9   chromedriver                        0x000000010e64bced chromedriver + 601325\n10  chromedriver                        0x000000010e64ce51 chromedriver + 605777\n11  chromedriver                        0x000000010e9bc0ce chromedriver + 4206798\n12  chromedriver                        0x000000010e9c0797 chromedriver + 4224919\n13  chromedriver                        0x000000010e9c7a4f chromedriver + 4254287\n14  chromedriver                        0x000000010e9c14da chromedriver + 4228314\n15  chromedriver                        0x000000010e99a23f chromedriver + 4067903\n16  chromedriver                        0x000000010e9de6a8 chromedriver + 4347560\n17  chromedriver                        0x000000010e9de816 chromedriver + 4347926\n18  chromedriver                        0x000000010e9f38fe chromedriver + 4434174\n19  libsystem_pthread.dylib             0x00007ff808bf04e1 _pthread_start + 125\n20  libsystem_pthread.dylib             0x00007ff808bebf6b thread_start + 15\n",
     "output_type": "error",
     "traceback": [
      "\u001b[0;31m---------------------------------------------------------------------------\u001b[0m",
      "\u001b[0;31mNoSuchElementException\u001b[0m                    Traceback (most recent call last)",
      "Input \u001b[0;32mIn [15]\u001b[0m, in \u001b[0;36m<cell line: 10>\u001b[0;34m()\u001b[0m\n\u001b[1;32m      8\u001b[0m driver\u001b[38;5;241m.\u001b[39mget(\u001b[38;5;124mf\u001b[39m\u001b[38;5;124m'\u001b[39m\u001b[38;5;124mhttps://www.google.de/search?q=restaurant+in+\u001b[39m\u001b[38;5;132;01m{\u001b[39;00mcity\u001b[38;5;132;01m}\u001b[39;00m\u001b[38;5;124m'\u001b[39m)\n\u001b[1;32m      9\u001b[0m time\u001b[38;5;241m.\u001b[39msleep(\u001b[38;5;241m7\u001b[39m)\n\u001b[0;32m---> 10\u001b[0m \u001b[43mdriver\u001b[49m\u001b[38;5;241;43m.\u001b[39;49m\u001b[43mfind_element\u001b[49m\u001b[43m(\u001b[49m\u001b[43mby\u001b[49m\u001b[38;5;241;43m=\u001b[39;49m\u001b[43mBy\u001b[49m\u001b[38;5;241;43m.\u001b[39;49m\u001b[43mXPATH\u001b[49m\u001b[43m,\u001b[49m\u001b[43m \u001b[49m\u001b[43mvalue\u001b[49m\u001b[38;5;241;43m=\u001b[39;49m\u001b[38;5;124;43m'\u001b[39;49m\u001b[38;5;124;43m//*[@id=\u001b[39;49m\u001b[38;5;124;43m\"\u001b[39;49m\u001b[38;5;124;43mOdp5De\u001b[39;49m\u001b[38;5;124;43m\"\u001b[39;49m\u001b[38;5;124;43m]/div/div/div[2]/div[1]/div[4]/g-more-link/a/div/span[1]\u001b[39;49m\u001b[38;5;124;43m'\u001b[39;49m\u001b[43m)\u001b[49m\u001b[38;5;241m.\u001b[39mclick()\n\u001b[1;32m     12\u001b[0m data \u001b[38;5;241m=\u001b[39m []\n\u001b[1;32m     14\u001b[0m \u001b[38;5;28;01mfor\u001b[39;00m a \u001b[38;5;129;01min\u001b[39;00m \u001b[38;5;28mrange\u001b[39m(\u001b[38;5;241m0\u001b[39m, pagg):\n",
      "File \u001b[0;32m~/opt/anaconda3/lib/python3.9/site-packages/selenium/webdriver/remote/webdriver.py:856\u001b[0m, in \u001b[0;36mWebDriver.find_element\u001b[0;34m(self, by, value)\u001b[0m\n\u001b[1;32m    853\u001b[0m     by \u001b[38;5;241m=\u001b[39m By\u001b[38;5;241m.\u001b[39mCSS_SELECTOR\n\u001b[1;32m    854\u001b[0m     value \u001b[38;5;241m=\u001b[39m \u001b[38;5;124m'\u001b[39m\u001b[38;5;124m[name=\u001b[39m\u001b[38;5;124m\"\u001b[39m\u001b[38;5;132;01m%s\u001b[39;00m\u001b[38;5;124m\"\u001b[39m\u001b[38;5;124m]\u001b[39m\u001b[38;5;124m'\u001b[39m \u001b[38;5;241m%\u001b[39m value\n\u001b[0;32m--> 856\u001b[0m \u001b[38;5;28;01mreturn\u001b[39;00m \u001b[38;5;28;43mself\u001b[39;49m\u001b[38;5;241;43m.\u001b[39;49m\u001b[43mexecute\u001b[49m\u001b[43m(\u001b[49m\u001b[43mCommand\u001b[49m\u001b[38;5;241;43m.\u001b[39;49m\u001b[43mFIND_ELEMENT\u001b[49m\u001b[43m,\u001b[49m\u001b[43m \u001b[49m\u001b[43m{\u001b[49m\n\u001b[1;32m    857\u001b[0m \u001b[43m    \u001b[49m\u001b[38;5;124;43m'\u001b[39;49m\u001b[38;5;124;43musing\u001b[39;49m\u001b[38;5;124;43m'\u001b[39;49m\u001b[43m:\u001b[49m\u001b[43m \u001b[49m\u001b[43mby\u001b[49m\u001b[43m,\u001b[49m\n\u001b[1;32m    858\u001b[0m \u001b[43m    \u001b[49m\u001b[38;5;124;43m'\u001b[39;49m\u001b[38;5;124;43mvalue\u001b[39;49m\u001b[38;5;124;43m'\u001b[39;49m\u001b[43m:\u001b[49m\u001b[43m \u001b[49m\u001b[43mvalue\u001b[49m\u001b[43m}\u001b[49m\u001b[43m)\u001b[49m[\u001b[38;5;124m'\u001b[39m\u001b[38;5;124mvalue\u001b[39m\u001b[38;5;124m'\u001b[39m]\n",
      "File \u001b[0;32m~/opt/anaconda3/lib/python3.9/site-packages/selenium/webdriver/remote/webdriver.py:429\u001b[0m, in \u001b[0;36mWebDriver.execute\u001b[0;34m(self, driver_command, params)\u001b[0m\n\u001b[1;32m    427\u001b[0m response \u001b[38;5;241m=\u001b[39m \u001b[38;5;28mself\u001b[39m\u001b[38;5;241m.\u001b[39mcommand_executor\u001b[38;5;241m.\u001b[39mexecute(driver_command, params)\n\u001b[1;32m    428\u001b[0m \u001b[38;5;28;01mif\u001b[39;00m response:\n\u001b[0;32m--> 429\u001b[0m     \u001b[38;5;28;43mself\u001b[39;49m\u001b[38;5;241;43m.\u001b[39;49m\u001b[43merror_handler\u001b[49m\u001b[38;5;241;43m.\u001b[39;49m\u001b[43mcheck_response\u001b[49m\u001b[43m(\u001b[49m\u001b[43mresponse\u001b[49m\u001b[43m)\u001b[49m\n\u001b[1;32m    430\u001b[0m     response[\u001b[38;5;124m'\u001b[39m\u001b[38;5;124mvalue\u001b[39m\u001b[38;5;124m'\u001b[39m] \u001b[38;5;241m=\u001b[39m \u001b[38;5;28mself\u001b[39m\u001b[38;5;241m.\u001b[39m_unwrap_value(\n\u001b[1;32m    431\u001b[0m         response\u001b[38;5;241m.\u001b[39mget(\u001b[38;5;124m'\u001b[39m\u001b[38;5;124mvalue\u001b[39m\u001b[38;5;124m'\u001b[39m, \u001b[38;5;28;01mNone\u001b[39;00m))\n\u001b[1;32m    432\u001b[0m     \u001b[38;5;28;01mreturn\u001b[39;00m response\n",
      "File \u001b[0;32m~/opt/anaconda3/lib/python3.9/site-packages/selenium/webdriver/remote/errorhandler.py:243\u001b[0m, in \u001b[0;36mErrorHandler.check_response\u001b[0;34m(self, response)\u001b[0m\n\u001b[1;32m    241\u001b[0m         alert_text \u001b[38;5;241m=\u001b[39m value[\u001b[38;5;124m'\u001b[39m\u001b[38;5;124malert\u001b[39m\u001b[38;5;124m'\u001b[39m]\u001b[38;5;241m.\u001b[39mget(\u001b[38;5;124m'\u001b[39m\u001b[38;5;124mtext\u001b[39m\u001b[38;5;124m'\u001b[39m)\n\u001b[1;32m    242\u001b[0m     \u001b[38;5;28;01mraise\u001b[39;00m exception_class(message, screen, stacktrace, alert_text)  \u001b[38;5;66;03m# type: ignore[call-arg]  # mypy is not smart enough here\u001b[39;00m\n\u001b[0;32m--> 243\u001b[0m \u001b[38;5;28;01mraise\u001b[39;00m exception_class(message, screen, stacktrace)\n",
      "\u001b[0;31mNoSuchElementException\u001b[0m: Message: no such element: Unable to locate element: {\"method\":\"xpath\",\"selector\":\"//*[@id=\"Odp5De\"]/div/div/div[2]/div[1]/div[4]/g-more-link/a/div/span[1]\"}\n  (Session info: chrome=106.0.5249.91)\nStacktrace:\n0   chromedriver                        0x000000010e9ec598 chromedriver + 4404632\n1   chromedriver                        0x000000010e973fa3 chromedriver + 3911587\n2   chromedriver                        0x000000010e620e6a chromedriver + 425578\n3   chromedriver                        0x000000010e658c91 chromedriver + 654481\n4   chromedriver                        0x000000010e658e91 chromedriver + 654993\n5   chromedriver                        0x000000010e690274 chromedriver + 881268\n6   chromedriver                        0x000000010e676dcd chromedriver + 777677\n7   chromedriver                        0x000000010e68df79 chromedriver + 872313\n8   chromedriver                        0x000000010e676bd3 chromedriver + 777171\n9   chromedriver                        0x000000010e64bced chromedriver + 601325\n10  chromedriver                        0x000000010e64ce51 chromedriver + 605777\n11  chromedriver                        0x000000010e9bc0ce chromedriver + 4206798\n12  chromedriver                        0x000000010e9c0797 chromedriver + 4224919\n13  chromedriver                        0x000000010e9c7a4f chromedriver + 4254287\n14  chromedriver                        0x000000010e9c14da chromedriver + 4228314\n15  chromedriver                        0x000000010e99a23f chromedriver + 4067903\n16  chromedriver                        0x000000010e9de6a8 chromedriver + 4347560\n17  chromedriver                        0x000000010e9de816 chromedriver + 4347926\n18  chromedriver                        0x000000010e9f38fe chromedriver + 4434174\n19  libsystem_pthread.dylib             0x00007ff808bf04e1 _pthread_start + 125\n20  libsystem_pthread.dylib             0x00007ff808bebf6b thread_start + 15\n"
     ]
    }
   ],
   "source": [
    "city = str(input('type the destination city: '))\n",
    "pagg = int(input('how many page do you scrap: '))\n",
    "\n",
    "s = Service()\n",
    "driver = webdriver.Chrome(service=s)\n",
    "\n",
    "driver.maximize_window()\n",
    "driver.get(f'https://www.google.de/search?q=restaurant+in+{city}')\n",
    "time.sleep(7)\n",
    "driver.find_element(by=By.XPATH, value='//*[@id=\"Odp5De\"]/div/div/div[2]/div[1]/div[4]/g-more-link/a/div/span[1]').click()\n",
    "\n",
    "data = []\n",
    "\n",
    "for a in range(0, pagg):\n",
    "    time.sleep(7)\n",
    "    mainpage = driver.find_elements(by=By.XPATH, value='//div[@jsname=\"GZq3Ke\"]')\n",
    "\n",
    "    for start in mainpage:\n",
    "        start.find_element(by=By.CLASS_NAME, value='rllt__details').click()\n",
    "\n",
    "        # waiting for opened js\n",
    "        time.sleep(7)\n",
    "\n",
    "        # start scrap\n",
    "        title = driver.find_element(by=By.CLASS_NAME, value='SPZz6b').find_element(by=By.TAG_NAME, value='h2').find_element(by=By.TAG_NAME, value='span').text\n",
    "        rating = driver.find_element(by=By.CLASS_NAME, value='Aq14fc').text\n",
    "        review = driver.find_element(by=By.CLASS_NAME, value='hqzQac').find_element(by=By.XPATH, value='//*[@id=\"akp_tsuid_9\"]/div/div[1]/div/div/block-component/div/div[1]/div/div/div/div[1]/div/div/div[1]/div/div[2]/div[1]/div/div/span[3]/span/a/span').text\n",
    "        location = driver.find_element(by=By.CLASS_NAME, value='LrzXr').text\n",
    "\n",
    "        # scrap phone number\n",
    "        try:\n",
    "            numm = driver.find_element(by=By.XPATH, value='//span[(@class=\"LrzXr zdqRlf kno-fv\")]').text\n",
    "        except Exception:\n",
    "            numm = 'no phone number'\n",
    "\n",
    "        # scrap for opening hours\n",
    "        try:\n",
    "            driver.find_element(by=By.CLASS_NAME, value='IDu36').click()\n",
    "            opening = driver.find_element(by=By.CLASS_NAME, value='WgFkxc').text\n",
    "            if opening == '':\n",
    "                time.sleep(3)\n",
    "                opening = driver.find_element(by=By.XPATH, value='//table[(@class=\"WgFkxc CLtZU\")]').text\n",
    "                driver.find_element(by=By.XPATH, value='//*[@id=\"gsr\"]/div[12]/g-lightbox/div/div[2]/div[2]').click()\n",
    "        except Exception:\n",
    "            opening = 'no opening hours'\n",
    "\n",
    "        dat = {\n",
    "            'Name': title,\n",
    "            'Rating': rating,\n",
    "            'Review': review,\n",
    "            'location': location,\n",
    "            'Phone Number': numm,\n",
    "            'Opening Hours': opening\n",
    "        }\n",
    "        data.append(dat)\n",
    "\n",
    "        # test result\n",
    "        print(f'{title}, rating = {rating}, {review}, location: {location}, phone: {numm}, operational hours: {opening}')\n",
    "\n",
    "    # click next page\n",
    "    try:\n",
    "        driver.find_element(by=By.XPATH, value='//*[@id=\"pnnext\"]/span[2]').click()\n",
    "    except Exception:\n",
    "        break\n",
    "\n",
    "# create data excle\n",
    "df = pd.DataFrame(data)\n",
    "df.to_excel(f'result from {pagg} page.xlsx', index=False)\n",
    "\n",
    "driver.close()            "
   ]
  },
  {
   "cell_type": "code",
   "execution_count": 19,
   "id": "a5f1b316",
   "metadata": {},
   "outputs": [
    {
     "ename": "NameError",
     "evalue": "name 'chrome_driver_path' is not defined",
     "output_type": "error",
     "traceback": [
      "\u001b[0;31m---------------------------------------------------------------------------\u001b[0m",
      "\u001b[0;31mNameError\u001b[0m                                 Traceback (most recent call last)",
      "Input \u001b[0;32mIn [19]\u001b[0m, in \u001b[0;36m<cell line: 4>\u001b[0;34m()\u001b[0m\n\u001b[1;32m      1\u001b[0m driver \u001b[38;5;241m=\u001b[39m webdriver\u001b[38;5;241m.\u001b[39mChrome()\n\u001b[1;32m      3\u001b[0m options \u001b[38;5;241m=\u001b[39m webdriver\u001b[38;5;241m.\u001b[39mChromeOptions()\n\u001b[0;32m----> 4\u001b[0m driver \u001b[38;5;241m=\u001b[39m webdriver\u001b[38;5;241m.\u001b[39mChrome(executable_path\u001b[38;5;241m=\u001b[39m\u001b[43mchrome_driver_path\u001b[49m,options\u001b[38;5;241m=\u001b[39moptions)\n",
      "\u001b[0;31mNameError\u001b[0m: name 'chrome_driver_path' is not defined"
     ]
    }
   ],
   "source": [
    "\n",
    "options = webdriver.ChromeOptions()\n",
    "driver = webdriver.Chrome(executable_path=chrome_driver_path,options=options)"
   ]
  },
  {
   "cell_type": "code",
   "execution_count": null,
   "id": "d1d74be0",
   "metadata": {},
   "outputs": [],
   "source": [
    "from selenium import webdriver\n",
    "driver = webdriver.Chrome()\n",
    "driver.get(\"https://www.nytimes.com\")\n",
    "headlines = driver.find_element(By.CLASS_NAME, \"indicate-hover css-vf1hbp\")\n",
    "for headline in headlines:\n",
    "    print(headline.text.strip())"
   ]
  },
  {
   "cell_type": "code",
   "execution_count": null,
   "id": "9ff7cc87",
   "metadata": {},
   "outputs": [],
   "source": [
    "from selenium.webdriver.common.action_chains import ActionChains\n",
    "  \n",
    "# Make browser open in background\n",
    "options = webdriver.ChromeOptions()\n",
    "options.add_argument('headless')\n",
    "  \n",
    "# Create the webdriver object\n",
    "browser = webdriver.Chrome()\n",
    "  \n",
    "# Obtain the Google Map URL\n",
    "url = [\"https://www.google.com/maps/place/\\\n",
    "Papa+John's+Pizza/@40.7936551,-74.0124687,17z/data=!3m1!4b1!\\\n",
    "4m5!3m4!1s0x89c2580eaa74451b:0x15d743e4f841e5ed!8m2!3d40.\\\n",
    "7936551!4d-74.0124687\", \"https://www.google.com/maps/place/\\\n",
    "Lucky+Dhaba/@30.653792,76.8165233,17z/data=!3m1!4b1!4m5!3m4!\\\n",
    "1s0x390feb3e3de1a031:0x862036ab85567f75!8m2!3d30.653792!4d76.818712\"]\n",
    "  \n",
    "# Initialize variables and declare it 0\n",
    "i = 0\n",
    "  \n",
    "# Create a loop for obtaining data from URLs\n",
    "for i in range(len(url)):\n",
    "  \n",
    "    # Open the Google Map URL\n",
    "    browser.get(url[i])\n",
    "  \n",
    "    # Obtain the title of that place\n",
    "    title = browser.find_element_by_class_name(\n",
    "        \"x3AX1-LfntMc-header-title-title\")\n",
    "    print(i+1, \"-\", title.text)\n",
    "  \n",
    "    # Obtain the address of that place\n",
    "    address = browser.find_element(By.CLASS_NAME, \"CsEnBe\")[0]\n",
    "    print(\"Address: \", address.text)\n",
    "    print(\"\\n\")"
   ]
  },
  {
   "cell_type": "code",
   "execution_count": 18,
   "id": "cad4d2b1",
   "metadata": {},
   "outputs": [
    {
     "name": "stdout",
     "output_type": "stream",
     "text": [
      "type the destination city: Köln\n",
      "how many page do you scrap: 1\n"
     ]
    },
    {
     "ename": "InvalidSessionIdException",
     "evalue": "Message: \n",
     "output_type": "error",
     "traceback": [
      "\u001b[0;31m---------------------------------------------------------------------------\u001b[0m",
      "\u001b[0;31mInvalidSessionIdException\u001b[0m                 Traceback (most recent call last)",
      "Input \u001b[0;32mIn [18]\u001b[0m, in \u001b[0;36m<cell line: 10>\u001b[0;34m()\u001b[0m\n\u001b[1;32m      8\u001b[0m driver\u001b[38;5;241m.\u001b[39mget(\u001b[38;5;124mf\u001b[39m\u001b[38;5;124m'\u001b[39m\u001b[38;5;124mhttps://www.google.de/search?q=restaurant+in+\u001b[39m\u001b[38;5;132;01m{\u001b[39;00mcity\u001b[38;5;132;01m}\u001b[39;00m\u001b[38;5;124m'\u001b[39m)\n\u001b[1;32m      9\u001b[0m time\u001b[38;5;241m.\u001b[39msleep(\u001b[38;5;241m7\u001b[39m)\n\u001b[0;32m---> 10\u001b[0m \u001b[43mdriver\u001b[49m\u001b[38;5;241;43m.\u001b[39;49m\u001b[43mfind_element\u001b[49m\u001b[43m(\u001b[49m\u001b[43mby\u001b[49m\u001b[38;5;241;43m=\u001b[39;49m\u001b[43mBy\u001b[49m\u001b[38;5;241;43m.\u001b[39;49m\u001b[43mXPATH\u001b[49m\u001b[43m,\u001b[49m\u001b[43m \u001b[49m\u001b[43mvalue\u001b[49m\u001b[38;5;241;43m=\u001b[39;49m\u001b[38;5;124;43m'\u001b[39;49m\u001b[38;5;124;43m//*[@id=\u001b[39;49m\u001b[38;5;124;43m\"\u001b[39;49m\u001b[38;5;124;43mOdp5De\u001b[39;49m\u001b[38;5;124;43m\"\u001b[39;49m\u001b[38;5;124;43m]/div/div/div[2]/div[1]/div[4]/g-more-link/a/div/span[1]\u001b[39;49m\u001b[38;5;124;43m'\u001b[39;49m\u001b[43m)\u001b[49m\u001b[38;5;241m.\u001b[39mclick()\n\u001b[1;32m     12\u001b[0m data \u001b[38;5;241m=\u001b[39m []\n\u001b[1;32m     14\u001b[0m \u001b[38;5;28;01mfor\u001b[39;00m a \u001b[38;5;129;01min\u001b[39;00m \u001b[38;5;28mrange\u001b[39m(\u001b[38;5;241m0\u001b[39m, pagg):\n",
      "File \u001b[0;32m~/opt/anaconda3/lib/python3.9/site-packages/selenium/webdriver/remote/webdriver.py:856\u001b[0m, in \u001b[0;36mWebDriver.find_element\u001b[0;34m(self, by, value)\u001b[0m\n\u001b[1;32m    853\u001b[0m     by \u001b[38;5;241m=\u001b[39m By\u001b[38;5;241m.\u001b[39mCSS_SELECTOR\n\u001b[1;32m    854\u001b[0m     value \u001b[38;5;241m=\u001b[39m \u001b[38;5;124m'\u001b[39m\u001b[38;5;124m[name=\u001b[39m\u001b[38;5;124m\"\u001b[39m\u001b[38;5;132;01m%s\u001b[39;00m\u001b[38;5;124m\"\u001b[39m\u001b[38;5;124m]\u001b[39m\u001b[38;5;124m'\u001b[39m \u001b[38;5;241m%\u001b[39m value\n\u001b[0;32m--> 856\u001b[0m \u001b[38;5;28;01mreturn\u001b[39;00m \u001b[38;5;28;43mself\u001b[39;49m\u001b[38;5;241;43m.\u001b[39;49m\u001b[43mexecute\u001b[49m\u001b[43m(\u001b[49m\u001b[43mCommand\u001b[49m\u001b[38;5;241;43m.\u001b[39;49m\u001b[43mFIND_ELEMENT\u001b[49m\u001b[43m,\u001b[49m\u001b[43m \u001b[49m\u001b[43m{\u001b[49m\n\u001b[1;32m    857\u001b[0m \u001b[43m    \u001b[49m\u001b[38;5;124;43m'\u001b[39;49m\u001b[38;5;124;43musing\u001b[39;49m\u001b[38;5;124;43m'\u001b[39;49m\u001b[43m:\u001b[49m\u001b[43m \u001b[49m\u001b[43mby\u001b[49m\u001b[43m,\u001b[49m\n\u001b[1;32m    858\u001b[0m \u001b[43m    \u001b[49m\u001b[38;5;124;43m'\u001b[39;49m\u001b[38;5;124;43mvalue\u001b[39;49m\u001b[38;5;124;43m'\u001b[39;49m\u001b[43m:\u001b[49m\u001b[43m \u001b[49m\u001b[43mvalue\u001b[49m\u001b[43m}\u001b[49m\u001b[43m)\u001b[49m[\u001b[38;5;124m'\u001b[39m\u001b[38;5;124mvalue\u001b[39m\u001b[38;5;124m'\u001b[39m]\n",
      "File \u001b[0;32m~/opt/anaconda3/lib/python3.9/site-packages/selenium/webdriver/remote/webdriver.py:429\u001b[0m, in \u001b[0;36mWebDriver.execute\u001b[0;34m(self, driver_command, params)\u001b[0m\n\u001b[1;32m    427\u001b[0m response \u001b[38;5;241m=\u001b[39m \u001b[38;5;28mself\u001b[39m\u001b[38;5;241m.\u001b[39mcommand_executor\u001b[38;5;241m.\u001b[39mexecute(driver_command, params)\n\u001b[1;32m    428\u001b[0m \u001b[38;5;28;01mif\u001b[39;00m response:\n\u001b[0;32m--> 429\u001b[0m     \u001b[38;5;28;43mself\u001b[39;49m\u001b[38;5;241;43m.\u001b[39;49m\u001b[43merror_handler\u001b[49m\u001b[38;5;241;43m.\u001b[39;49m\u001b[43mcheck_response\u001b[49m\u001b[43m(\u001b[49m\u001b[43mresponse\u001b[49m\u001b[43m)\u001b[49m\n\u001b[1;32m    430\u001b[0m     response[\u001b[38;5;124m'\u001b[39m\u001b[38;5;124mvalue\u001b[39m\u001b[38;5;124m'\u001b[39m] \u001b[38;5;241m=\u001b[39m \u001b[38;5;28mself\u001b[39m\u001b[38;5;241m.\u001b[39m_unwrap_value(\n\u001b[1;32m    431\u001b[0m         response\u001b[38;5;241m.\u001b[39mget(\u001b[38;5;124m'\u001b[39m\u001b[38;5;124mvalue\u001b[39m\u001b[38;5;124m'\u001b[39m, \u001b[38;5;28;01mNone\u001b[39;00m))\n\u001b[1;32m    432\u001b[0m     \u001b[38;5;28;01mreturn\u001b[39;00m response\n",
      "File \u001b[0;32m~/opt/anaconda3/lib/python3.9/site-packages/selenium/webdriver/remote/errorhandler.py:243\u001b[0m, in \u001b[0;36mErrorHandler.check_response\u001b[0;34m(self, response)\u001b[0m\n\u001b[1;32m    241\u001b[0m         alert_text \u001b[38;5;241m=\u001b[39m value[\u001b[38;5;124m'\u001b[39m\u001b[38;5;124malert\u001b[39m\u001b[38;5;124m'\u001b[39m]\u001b[38;5;241m.\u001b[39mget(\u001b[38;5;124m'\u001b[39m\u001b[38;5;124mtext\u001b[39m\u001b[38;5;124m'\u001b[39m)\n\u001b[1;32m    242\u001b[0m     \u001b[38;5;28;01mraise\u001b[39;00m exception_class(message, screen, stacktrace, alert_text)  \u001b[38;5;66;03m# type: ignore[call-arg]  # mypy is not smart enough here\u001b[39;00m\n\u001b[0;32m--> 243\u001b[0m \u001b[38;5;28;01mraise\u001b[39;00m exception_class(message, screen, stacktrace)\n",
      "\u001b[0;31mInvalidSessionIdException\u001b[0m: Message: \n"
     ]
    }
   ],
   "source": [
    "city = str(input('type the destination city: '))\n",
    "pagg = int(input('how many page do you scrap: '))\n",
    "\n",
    "s = Service(r'/usr/bin/safaridriver')\n",
    "driver = webdriver.Safari(service=s)\n",
    "\n",
    "driver.maximize_window()\n",
    "driver.get(f'https://www.google.de/search?q=restaurant+in+{city}')\n",
    "time.sleep(7)\n",
    "driver.find_element(by=By.XPATH, value='//*[@id=\"Odp5De\"]/div/div/div[2]/div[1]/div[4]/g-more-link/a/div/span[1]').click()\n",
    "\n",
    "data = []\n",
    "\n",
    "for a in range(0, pagg):\n",
    "    time.sleep(7)\n",
    "    mainpage = driver.find_elements(by=By.XPATH, value='//div[@jsname=\"GZq3Ke\"]')\n",
    "\n",
    "    for start in mainpage:\n",
    "        start.find_element(by=By.CLASS_NAME, value='rllt__details').click()\n",
    "\n",
    "        # waiting for opened js\n",
    "        time.sleep(7)\n",
    "\n",
    "        # start scrap\n",
    "        title = driver.find_element(by=By.CLASS_NAME, value='SPZz6b').find_element(by=By.TAG_NAME, value='h2').find_element(by=By.TAG_NAME, value='span').text\n",
    "        rating = driver.find_element(by=By.CLASS_NAME, value='Aq14fc').text\n",
    "        review = driver.find_element(by=By.CLASS_NAME, value='hqzQac').find_element(by=By.XPATH, value='//*[@id=\"akp_tsuid_9\"]/div/div[1]/div/div/block-component/div/div[1]/div/div/div/div[1]/div/div/div[1]/div/div[2]/div[1]/div/div/span[3]/span/a/span').text\n",
    "        location = driver.find_element(by=By.CLASS_NAME, value='LrzXr').text\n",
    "\n",
    "        # scrap phone number\n",
    "        try:\n",
    "            numm = driver.find_element(by=By.XPATH, value='//span[(@class=\"LrzXr zdqRlf kno-fv\")]').text\n",
    "        except Exception:\n",
    "            numm = 'no phone number'\n",
    "\n",
    "        # scrap for opening hours\n",
    "        try:\n",
    "            driver.find_element(by=By.CLASS_NAME, value='IDu36').click()\n",
    "            opening = driver.find_element(by=By.CLASS_NAME, value='WgFkxc').text\n",
    "            if opening == '':\n",
    "                time.sleep(3)\n",
    "                opening = driver.find_element(by=By.XPATH, value='//table[(@class=\"WgFkxc CLtZU\")]').text\n",
    "                driver.find_element(by=By.XPATH, value='//*[@id=\"gsr\"]/div[12]/g-lightbox/div/div[2]/div[2]').click()\n",
    "        except Exception:\n",
    "            opening = 'no opening hours'\n",
    "\n",
    "        dat = {\n",
    "            'Name': title,\n",
    "            'Rating': rating,\n",
    "            'Review': review,\n",
    "            'location': location,\n",
    "            'Phone Number': numm,\n",
    "            'Opening Hours': opening\n",
    "        }\n",
    "        data.append(dat)\n",
    "\n",
    "        # test result\n",
    "        print(f'{title}, rating = {rating}, {review}, location: {location}, phone: {numm}, operational hours: {opening}')\n",
    "\n",
    "    # click next page\n",
    "    try:\n",
    "        driver.find_element(by=By.XPATH, value='//*[@id=\"pnnext\"]/span[2]').click()\n",
    "    except Exception:\n",
    "        break\n",
    "\n",
    "# create data excle\n",
    "df = pd.DataFrame(data)\n",
    "df.to_excel(f'result from {pagg} page.xlsx', index=False)\n",
    "\n",
    "driver.close()            "
   ]
  },
  {
   "cell_type": "code",
   "execution_count": null,
   "id": "7437cb7b",
   "metadata": {},
   "outputs": [],
   "source": []
  }
 ],
 "metadata": {
  "kernelspec": {
   "display_name": "Python 3 (ipykernel)",
   "language": "python",
   "name": "python3"
  },
  "language_info": {
   "codemirror_mode": {
    "name": "ipython",
    "version": 3
   },
   "file_extension": ".py",
   "mimetype": "text/x-python",
   "name": "python",
   "nbconvert_exporter": "python",
   "pygments_lexer": "ipython3",
   "version": "3.9.12"
  }
 },
 "nbformat": 4,
 "nbformat_minor": 5
}
